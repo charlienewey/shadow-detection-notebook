{
 "cells": [
  {
   "cell_type": "code",
   "execution_count": null,
   "metadata": {
    "collapsed": false
   },
   "outputs": [],
   "source": [
    "%pylab notebook\n",
    "\n",
    "from IPython.display import YouTubeVideo\n",
    "\n",
    "# Let's define a function to show images...\n",
    "import math\n",
    "def _imshow(width, axes, *images):\n",
    "    from matplotlib import pyplot as plt\n",
    "    fig = plt.figure()\n",
    "\n",
    "    height = math.ceil(len(images) / float(width))\n",
    "    for i in range(0, len(images)):\n",
    "        im = images[i]\n",
    "        ax = fig.add_subplot(height, width, i + 1)\n",
    "        cax = ax.imshow(im, cmap=plt.cm.cubehelix)\n",
    "        \n",
    "        if not axes:\n",
    "            plt.axis('off')\n",
    "        \n",
    "    plt.show()"
   ]
  },
  {
   "cell_type": "markdown",
   "metadata": {
    "collapsed": true
   },
   "source": [
    "# Recap of Project\n",
    "\n",
    "This project is about *shadow detection for mobile robots* - detecting shadows with an *active camera*. This is challenging because the majority of previous work revolves around using a background model to detect changed parts of a scene. This obviously can't work for active video!\n",
    "\n",
    "## Hypothesis\n",
    "\n",
    "The detection of shadows is possible by combining information about texture features (something that remains largely unchanged under shadow) with other information - including local maxima, smoothness, or other colourimetric features.\n",
    "\n",
    "## Key Points\n",
    "\n",
    "* Capturing multiple datasets\n",
    "* Simple shadow detection with colour/brightness\n",
    "* Texture feature investigation\n",
    "* Clustering texture features into contiguous regions\n",
    "* Combining \n",
    "* Machine learning techniques"
   ]
  },
  {
   "cell_type": "markdown",
   "metadata": {},
   "source": [
    "## Datasets\n",
    "\n",
    "### Static Camera (or \"easy\")"
   ]
  },
  {
   "cell_type": "code",
   "execution_count": null,
   "metadata": {
    "collapsed": false
   },
   "outputs": [],
   "source": [
    "images = [imread(\"../data/static/%s/images/small-00044.png\" % (i))\n",
    "          for i in [\"bobbly-slabs\", \"bricks\", \"smooth-slabs\", \"tarmac\"]]  \n",
    "_imshow(2, False, *images)"
   ]
  },
  {
   "cell_type": "markdown",
   "metadata": {},
   "source": [
    "### Active Camera (or \"slightly less easy\")"
   ]
  },
  {
   "cell_type": "code",
   "execution_count": null,
   "metadata": {
    "collapsed": false
   },
   "outputs": [],
   "source": [
    "images = [imread(\"../data/active/%s/images/small-00044.png\" % (i))\n",
    "          for i in [\"grass-path\", \"seafront-gravel\", \"seafront-path\"]]  \n",
    "_imshow(2, False, *images)"
   ]
  },
  {
   "cell_type": "markdown",
   "metadata": {},
   "source": [
    "### Ground Truth\n",
    "\n",
    "The following video is an example of some of the initial techniques that I was using to generate ground truth. This involved using local brightness maxima and some morphological post-processing to reduce noise and fill holes (opening/closing). This is pretty much the point I'd reached at the time of the mid-project demonstration."
   ]
  },
  {
   "cell_type": "code",
   "execution_count": null,
   "metadata": {
    "collapsed": false
   },
   "outputs": [],
   "source": [
    "# a video in case of demo effect\n",
    "YouTubeVideo(\"j5PmcK6b4dQ\")"
   ]
  },
  {
   "cell_type": "code",
   "execution_count": null,
   "metadata": {
    "collapsed": false
   },
   "outputs": [],
   "source": [
    "# So, for example, the ground truth looks like this...\n",
    "ground_truth = imread(\"../data/static/smooth-slabs//ground-truth/small-00052.png\")\n",
    "image = imread(\"../data/static/smooth-slabs/images/small-00052.png\")\n",
    "_imshow(1, False, ground_truth, image)"
   ]
  },
  {
   "cell_type": "markdown",
   "metadata": {},
   "source": [
    "## Texture\n",
    "\n",
    "### Choice of Texture Feature\n",
    "\n",
    "A large part of this project revolved around choosing texture features based on their shadow invariance. In the end, local binary patterns turned out to be the *best* texture feature - although, LBPs were chosen based on a combination of factors, rather than solely shadow invariance.\n",
    "\n",
    "### Flaws in Analytical Method\n",
    "\n",
    "The simplest way of comparing the shadow invariance of texture features seemed to be extracting two sets of features for an image pair - one image under shadow, and the other with no shadow - then using a simple metric for difference, such as mean squared error (essentially, Euclidean distance).\n",
    "\n",
    "However, as became clear during experimentation, different feature types can't necessarily be compared in this manner as their data structures can be completely different. A sparse data structure, (for example, from a GLCM - a mostly-empty array), may exhibit a *very low* mean squared error - whereas a more dense structure (for example, an LBP) may give a considerably different result.\n",
    "\n",
    "I would have changed this or investigated this more, given time."
   ]
  },
  {
   "cell_type": "markdown",
   "metadata": {},
   "source": [
    "### Texture Feature Clustering\n",
    "\n",
    "K-means clustering was the primary clustering technique used in this project. As well as having a particularly performant implementation in `scikit-learn` (a fantastic mini-batch implementation), it was also the most straightforward algorithm to use - its only drawback was having to specify $k$.\n",
    "\n",
    "#### Notable Mention\n",
    "\n",
    "It's annoying to have to specify $k$ for each image, particularly on unknown image sequences. Online, unsupervised estimation of $k$ is a whole other project in itself, so I also tried DBSCAN for clustering (which is a clustering algorithm that does not have this requirement). DBSCAN essentially looks for areas of density separated by sparse areas. It was incredibly slow (almost unusable, actually), so it wasn't used in the end - but it was worth mentioning.\n",
    "\n",
    "### Testing Clustering Quality\n",
    "\n",
    "Because of the flawed analysis of shadow-invariant texture features, instead I evaluated how consistent texture clusters were under shadow. This simply involved applying a clustering algorithm to texture features from shadow-free/shadowed image pairs, and comparing the resultant clusters with various metrics (e.g. Adjusted Rand Index, Homogeneity, etc)."
   ]
  },
  {
   "cell_type": "markdown",
   "metadata": {},
   "source": [
    "## Simple Clustering-Based Shadow Detection\n",
    "\n",
    "### Without Variance Threshold\n",
    "\n",
    "### With Variance Threshold"
   ]
  },
  {
   "cell_type": "markdown",
   "metadata": {},
   "source": [
    "## Machine Learning\n",
    "\n",
    "Very close to the end of the project, there were one or two days spare - so it made sense to experiment with some machine learning techniques before time ran out. Two types were trialled - decision trees and random forests.\n",
    "\n",
    "### Decision Trees\n",
    "\n",
    "Decision trees were the most effective machine learning technique used in this project, mostly due to their extreme simplicity and excellent performance."
   ]
  },
  {
   "cell_type": "code",
   "execution_count": null,
   "metadata": {
    "collapsed": false
   },
   "outputs": [],
   "source": [
    "# a video in case of demo effect\n",
    "YouTubeVideo(\"zBXaazf0vI8\")"
   ]
  },
  {
   "cell_type": "markdown",
   "metadata": {
    "collapsed": true
   },
   "source": [
    "### Random Forests"
   ]
  },
  {
   "cell_type": "markdown",
   "metadata": {},
   "source": [
    "## Demonstration"
   ]
  }
 ],
 "metadata": {
  "kernelspec": {
   "display_name": "Python 2",
   "language": "python",
   "name": "python2"
  },
  "language_info": {
   "codemirror_mode": {
    "name": "ipython",
    "version": 2
   },
   "file_extension": ".py",
   "mimetype": "text/x-python",
   "name": "python",
   "nbconvert_exporter": "python",
   "pygments_lexer": "ipython2",
   "version": "2.7.6"
  }
 },
 "nbformat": 4,
 "nbformat_minor": 0
}
